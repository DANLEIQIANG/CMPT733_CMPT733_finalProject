{
 "cells": [
  {
   "cell_type": "code",
   "execution_count": 2,
   "id": "39bd7b42",
   "metadata": {},
   "outputs": [],
   "source": [
    "import pandas as pd\n",
    "import json\n",
    "import random\n",
    "import re\n",
    "import os\n",
    "import numpy as np\n",
    "from sklearn.feature_extraction.text import TfidfVectorizer"
   ]
  },
  {
   "cell_type": "code",
   "execution_count": 2,
   "id": "15be16ce",
   "metadata": {},
   "outputs": [
    {
     "data": {
      "text/html": [
       "<div>\n",
       "<style scoped>\n",
       "    .dataframe tbody tr th:only-of-type {\n",
       "        vertical-align: middle;\n",
       "    }\n",
       "\n",
       "    .dataframe tbody tr th {\n",
       "        vertical-align: top;\n",
       "    }\n",
       "\n",
       "    .dataframe thead th {\n",
       "        text-align: right;\n",
       "    }\n",
       "</style>\n",
       "<table border=\"1\" class=\"dataframe\">\n",
       "  <thead>\n",
       "    <tr style=\"text-align: right;\">\n",
       "      <th></th>\n",
       "      <th>Unnamed: 0</th>\n",
       "      <th>tweets_id</th>\n",
       "      <th>text</th>\n",
       "      <th>author_id</th>\n",
       "      <th>username</th>\n",
       "      <th>user_created_time</th>\n",
       "      <th>user_location</th>\n",
       "      <th>user_name</th>\n",
       "      <th>user_description</th>\n",
       "      <th>geo_place_id</th>\n",
       "      <th>geo_country_code</th>\n",
       "      <th>geo_place_type</th>\n",
       "      <th>geo_full_name</th>\n",
       "      <th>geo_bbox</th>\n",
       "      <th>geo_country</th>\n",
       "      <th>geo_name</th>\n",
       "      <th>date</th>\n",
       "      <th>text_clean</th>\n",
       "      <th>labels</th>\n",
       "    </tr>\n",
       "  </thead>\n",
       "  <tbody>\n",
       "    <tr>\n",
       "      <th>6</th>\n",
       "      <td>7</td>\n",
       "      <td>1410511817961398272</td>\n",
       "      <td>@lavosaurus It’s working then. 👍</td>\n",
       "      <td>2819113718</td>\n",
       "      <td>melbournewaiter</td>\n",
       "      <td>2014-09-19T03:57:01.000Z</td>\n",
       "      <td>Melbourne - Australia</td>\n",
       "      <td>Melbourne Waiter</td>\n",
       "      <td>Graduated from being a waiter. 🥂Human Resource...</td>\n",
       "      <td>01864a8a64df9dc4</td>\n",
       "      <td>AU</td>\n",
       "      <td>city</td>\n",
       "      <td>Melbourne, Victoria</td>\n",
       "      <td>[144.593741856, -38.433859306, 145.512528832, ...</td>\n",
       "      <td>Australia</td>\n",
       "      <td>Melbourne</td>\n",
       "      <td>2021-07-01</td>\n",
       "      <td>work</td>\n",
       "      <td>0</td>\n",
       "    </tr>\n",
       "    <tr>\n",
       "      <th>9</th>\n",
       "      <td>10</td>\n",
       "      <td>1410511813981134852</td>\n",
       "      <td>Discover hotels around Universal City, United ...</td>\n",
       "      <td>255184064</td>\n",
       "      <td>geolocationms</td>\n",
       "      <td>2011-02-20T21:13:40.000Z</td>\n",
       "      <td>Warsaw, Poland</td>\n",
       "      <td>GMS World</td>\n",
       "      <td>Discover interesting places nearby!</td>\n",
       "      <td>47cd9d5952aecca4</td>\n",
       "      <td>US</td>\n",
       "      <td>city</td>\n",
       "      <td>Universal City, TX</td>\n",
       "      <td>[-98.334336, 29.526112, -98.273005, 29.575606]</td>\n",
       "      <td>Etats-Unis</td>\n",
       "      <td>Universal City</td>\n",
       "      <td>2021-07-01</td>\n",
       "      <td>discov hotel around univers citi unit state 25...</td>\n",
       "      <td>0</td>\n",
       "    </tr>\n",
       "    <tr>\n",
       "      <th>10</th>\n",
       "      <td>11</td>\n",
       "      <td>1410511811015675906</td>\n",
       "      <td>Take 1. 🎥 Less than ten minutes into my zoom y...</td>\n",
       "      <td>904502007385358336</td>\n",
       "      <td>viviennelaw_x</td>\n",
       "      <td>2017-09-04T00:30:58.000Z</td>\n",
       "      <td>New South Wales, Australia</td>\n",
       "      <td>Vivienne Law</td>\n",
       "      <td>🏡 Nomad 💌 Love notes at vivienne@viviennelaw.c...</td>\n",
       "      <td>0073b76548e5984f</td>\n",
       "      <td>AU</td>\n",
       "      <td>city</td>\n",
       "      <td>Sydney, New South Wales</td>\n",
       "      <td>[150.520928608, -34.1183470085, 151.343020992,...</td>\n",
       "      <td>Australia</td>\n",
       "      <td>Sydney</td>\n",
       "      <td>2021-07-01</td>\n",
       "      <td>take 1 less ten minut zoom yoga class accident...</td>\n",
       "      <td>0</td>\n",
       "    </tr>\n",
       "    <tr>\n",
       "      <th>16</th>\n",
       "      <td>18</td>\n",
       "      <td>1410511799108128769</td>\n",
       "      <td>@chrischirp Will then moan that the rest of th...</td>\n",
       "      <td>201861295</td>\n",
       "      <td>charltonted</td>\n",
       "      <td>2010-10-12T19:53:21.000Z</td>\n",
       "      <td>Orpington, Kent, England</td>\n",
       "      <td>Ted</td>\n",
       "      <td>A Charlton Athletic &amp; Kent cricket fan.\\n60 ye...</td>\n",
       "      <td>135989ad972a5d9d</td>\n",
       "      <td>GB</td>\n",
       "      <td>city</td>\n",
       "      <td>Bromley, London</td>\n",
       "      <td>[-0.080526, 51.3434174, 0.1331237, 51.4452233]</td>\n",
       "      <td>Royaume-Uni</td>\n",
       "      <td>Bromley</td>\n",
       "      <td>2021-07-01</td>\n",
       "      <td>moan rest world especi devil worship eu us bri...</td>\n",
       "      <td>0</td>\n",
       "    </tr>\n",
       "    <tr>\n",
       "      <th>34</th>\n",
       "      <td>42</td>\n",
       "      <td>1410511764089942019</td>\n",
       "      <td>@krishk @NickGibbUK What investment is being m...</td>\n",
       "      <td>920945767</td>\n",
       "      <td>rogernews71</td>\n",
       "      <td>2012-11-02T12:37:19.000Z</td>\n",
       "      <td>Southend on Sea</td>\n",
       "      <td>Roger Newsham</td>\n",
       "      <td>Journeying in God's Grace to remain true to hi...</td>\n",
       "      <td>03a5820911d90b76</td>\n",
       "      <td>GB</td>\n",
       "      <td>city</td>\n",
       "      <td>Southend-on-Sea, East</td>\n",
       "      <td>[0.624134, 51.522076, 0.818367, 51.576801]</td>\n",
       "      <td>Royaume-Uni</td>\n",
       "      <td>Southend-on-Sea</td>\n",
       "      <td>2021-07-01</td>\n",
       "      <td>invest made school counsel combat isol loneli ...</td>\n",
       "      <td>0</td>\n",
       "    </tr>\n",
       "  </tbody>\n",
       "</table>\n",
       "</div>"
      ],
      "text/plain": [
       "    Unnamed: 0            tweets_id  \\\n",
       "6            7  1410511817961398272   \n",
       "9           10  1410511813981134852   \n",
       "10          11  1410511811015675906   \n",
       "16          18  1410511799108128769   \n",
       "34          42  1410511764089942019   \n",
       "\n",
       "                                                 text           author_id  \\\n",
       "6                    @lavosaurus It’s working then. 👍          2819113718   \n",
       "9   Discover hotels around Universal City, United ...           255184064   \n",
       "10  Take 1. 🎥 Less than ten minutes into my zoom y...  904502007385358336   \n",
       "16  @chrischirp Will then moan that the rest of th...           201861295   \n",
       "34  @krishk @NickGibbUK What investment is being m...           920945767   \n",
       "\n",
       "           username         user_created_time               user_location  \\\n",
       "6   melbournewaiter  2014-09-19T03:57:01.000Z       Melbourne - Australia   \n",
       "9     geolocationms  2011-02-20T21:13:40.000Z              Warsaw, Poland   \n",
       "10    viviennelaw_x  2017-09-04T00:30:58.000Z  New South Wales, Australia   \n",
       "16      charltonted  2010-10-12T19:53:21.000Z    Orpington, Kent, England   \n",
       "34      rogernews71  2012-11-02T12:37:19.000Z             Southend on Sea   \n",
       "\n",
       "           user_name                                   user_description  \\\n",
       "6   Melbourne Waiter  Graduated from being a waiter. 🥂Human Resource...   \n",
       "9          GMS World                Discover interesting places nearby!   \n",
       "10      Vivienne Law  🏡 Nomad 💌 Love notes at vivienne@viviennelaw.c...   \n",
       "16               Ted  A Charlton Athletic & Kent cricket fan.\\n60 ye...   \n",
       "34     Roger Newsham  Journeying in God's Grace to remain true to hi...   \n",
       "\n",
       "        geo_place_id geo_country_code geo_place_type            geo_full_name  \\\n",
       "6   01864a8a64df9dc4               AU           city      Melbourne, Victoria   \n",
       "9   47cd9d5952aecca4               US           city       Universal City, TX   \n",
       "10  0073b76548e5984f               AU           city  Sydney, New South Wales   \n",
       "16  135989ad972a5d9d               GB           city          Bromley, London   \n",
       "34  03a5820911d90b76               GB           city    Southend-on-Sea, East   \n",
       "\n",
       "                                             geo_bbox  geo_country  \\\n",
       "6   [144.593741856, -38.433859306, 145.512528832, ...    Australia   \n",
       "9      [-98.334336, 29.526112, -98.273005, 29.575606]   Etats-Unis   \n",
       "10  [150.520928608, -34.1183470085, 151.343020992,...    Australia   \n",
       "16     [-0.080526, 51.3434174, 0.1331237, 51.4452233]  Royaume-Uni   \n",
       "34         [0.624134, 51.522076, 0.818367, 51.576801]  Royaume-Uni   \n",
       "\n",
       "           geo_name        date  \\\n",
       "6         Melbourne  2021-07-01   \n",
       "9    Universal City  2021-07-01   \n",
       "10           Sydney  2021-07-01   \n",
       "16          Bromley  2021-07-01   \n",
       "34  Southend-on-Sea  2021-07-01   \n",
       "\n",
       "                                           text_clean  labels  \n",
       "6                                                work       0  \n",
       "9   discov hotel around univers citi unit state 25...       0  \n",
       "10  take 1 less ten minut zoom yoga class accident...       0  \n",
       "16  moan rest world especi devil worship eu us bri...       0  \n",
       "34  invest made school counsel combat isol loneli ...       0  "
      ]
     },
     "execution_count": 2,
     "metadata": {},
     "output_type": "execute_result"
    }
   ],
   "source": [
    "df = pd.read_csv(\"./2021_07_labeled.csv\")\n",
    "df_0 = df[df['labels'] == 0]\n",
    "df_1 = df[df['labels'] == 1]\n",
    "df_0.head()"
   ]
  },
  {
   "cell_type": "code",
   "execution_count": 3,
   "id": "ee6ceda9",
   "metadata": {},
   "outputs": [],
   "source": [
    "text_0 = df_0.text_clean\n",
    "tfidf_vectorizer = TfidfVectorizer()\n",
    "tfidf = tfidf_vectorizer.fit_transform(text_0)\n",
    "tfidf = tfidf.toarray()"
   ]
  },
  {
   "cell_type": "code",
   "execution_count": null,
   "id": "77b142b9",
   "metadata": {},
   "outputs": [],
   "source": [
    "k = 4\n",
    "Kmeans_cluster = KMeans()\n",
    "speech_cluster_result = Kmeans_cluster.kmeans_plus_plus(tfidf, k)"
   ]
  },
  {
   "cell_type": "code",
   "execution_count": null,
   "id": "78fcad33",
   "metadata": {},
   "outputs": [],
   "source": [
    "df_0['cluster'] = speech_cluster_result"
   ]
  },
  {
   "cell_type": "code",
   "execution_count": 4,
   "id": "b581a0a6",
   "metadata": {},
   "outputs": [],
   "source": [
    "from sklearn.cluster import KMeans\n",
    "from sklearn.metrics import silhouette_samples, silhouette_score"
   ]
  },
  {
   "cell_type": "code",
   "execution_count": null,
   "id": "eae24af2",
   "metadata": {},
   "outputs": [],
   "source": [
    "kmeans.labels_"
   ]
  },
  {
   "cell_type": "code",
   "execution_count": null,
   "id": "7995ba0c",
   "metadata": {},
   "outputs": [],
   "source": [
    "from sklearn.metrics import silhouette_samples, silhouette_score\n",
    "kmeans = KMeans(n_clusters=10, init='k-means++').fit(tfidf)\n",
    "silhouette_avg = silhouette_score(tfidf, kmeans.labels_)\n",
    "print(silhouette_avg)"
   ]
  },
  {
   "cell_type": "code",
   "execution_count": 5,
   "id": "b3e9c411",
   "metadata": {},
   "outputs": [
    {
     "name": "stdout",
     "output_type": "stream",
     "text": [
      "Start kmeans\n",
      "Start silhouette\n",
      "Cluster number is  4 the score is  0.0024789888770563578\n",
      "Start kmeans\n",
      "Start silhouette\n",
      "Cluster number is  5 the score is  0.0030439641830608886\n",
      "Start kmeans\n",
      "Start silhouette\n",
      "Cluster number is  6 the score is  0.003690461110179644\n",
      "Start kmeans\n",
      "Start silhouette\n",
      "Cluster number is  7 the score is  0.003958096607135735\n",
      "Start kmeans\n",
      "Start silhouette\n",
      "Cluster number is  8 the score is  0.00466118171854636\n",
      "Start kmeans\n",
      "Start silhouette\n",
      "Cluster number is  9 the score is  0.005206983069176278\n",
      "Start kmeans\n",
      "Start silhouette\n",
      "Cluster number is  10 the score is  0.005304421136471742\n",
      "Start kmeans\n",
      "Start silhouette\n",
      "Cluster number is  11 the score is  0.006526975887691197\n",
      "Start kmeans\n",
      "Start silhouette\n",
      "Cluster number is  12 the score is  0.006481212268508553\n",
      "Start kmeans\n",
      "Start silhouette\n",
      "Cluster number is  13 the score is  0.006741434266900405\n",
      "Start kmeans\n",
      "Start silhouette\n",
      "Cluster number is  14 the score is  0.007609956407009883\n",
      "Start kmeans\n",
      "Start silhouette\n",
      "Cluster number is  15 the score is  0.007856444000115561\n",
      "Start kmeans\n",
      "Start silhouette\n",
      "Cluster number is  16 the score is  0.008131049808059461\n",
      "Start kmeans\n",
      "Start silhouette\n",
      "Cluster number is  17 the score is  0.008590598802662492\n",
      "Start kmeans\n",
      "Start silhouette\n",
      "Cluster number is  18 the score is  0.009175338316229603\n",
      "Start kmeans\n",
      "Start silhouette\n",
      "Cluster number is  19 the score is  0.01005270656930248\n"
     ]
    }
   ],
   "source": [
    "for i in range(4,20):\n",
    "    print(\"Start kmeans\")\n",
    "    kmeans = KMeans(n_clusters=i, init='k-means++').fit(tfidf)\n",
    "    print(\"Start silhouette\")\n",
    "    silhouette_avg = silhouette_score(tfidf, kmeans.labels_)\n",
    "    print(\"Cluster number is \", i, \"the score is \", silhouette_avg)"
   ]
  },
  {
   "cell_type": "code",
   "execution_count": null,
   "id": "6e0d75e7",
   "metadata": {},
   "outputs": [
    {
     "name": "stdout",
     "output_type": "stream",
     "text": [
      "Start kmeans\n",
      "Start silhouette\n",
      "Cluster number is  19 the score is  0.009872697253634035\n",
      "Start kmeans\n",
      "Start silhouette\n",
      "Cluster number is  20 the score is  0.009681978952403093\n",
      "Start kmeans\n",
      "Start silhouette\n",
      "Cluster number is  21 the score is  0.009906521431195772\n",
      "Start kmeans\n",
      "Start silhouette\n",
      "Cluster number is  22 the score is  0.010366347919083108\n",
      "Start kmeans\n",
      "Start silhouette\n",
      "Cluster number is  23 the score is  0.010335208900985954\n",
      "Start kmeans\n",
      "Start silhouette\n",
      "Cluster number is  24 the score is  0.011017797788404223\n",
      "Start kmeans\n",
      "Start silhouette\n",
      "Cluster number is  25 the score is  0.011278843230337494\n",
      "Start kmeans\n",
      "Start silhouette\n",
      "Cluster number is  26 the score is  0.011879943958701398\n",
      "Start kmeans\n",
      "Start silhouette\n",
      "Cluster number is  27 the score is  0.011865588229358022\n",
      "Start kmeans\n",
      "Start silhouette\n",
      "Cluster number is  28 the score is  0.0126665076043934\n",
      "Start kmeans\n",
      "Start silhouette\n",
      "Cluster number is  29 the score is  0.012792932063946737\n",
      "Start kmeans\n",
      "Start silhouette\n",
      "Cluster number is  30 the score is  0.013193387893510431\n",
      "Start kmeans\n",
      "Start silhouette\n",
      "Cluster number is  31 the score is  0.013130948501158465\n",
      "Start kmeans\n",
      "Start silhouette\n",
      "Cluster number is  32 the score is  0.013262246575167405\n",
      "Start kmeans\n",
      "Start silhouette\n",
      "Cluster number is  33 the score is  0.012738398074088086\n",
      "Start kmeans\n",
      "Start silhouette\n",
      "Cluster number is  34 the score is  0.013863048523233872\n",
      "Start kmeans\n",
      "Start silhouette\n",
      "Cluster number is  35 the score is  0.014249420877566891\n",
      "Start kmeans\n",
      "Start silhouette\n",
      "Cluster number is  36 the score is  0.013811035261945236\n",
      "Start kmeans\n",
      "Start silhouette\n",
      "Cluster number is  37 the score is  0.014294782976174392\n",
      "Start kmeans\n",
      "Start silhouette\n",
      "Cluster number is  38 the score is  0.014657477515961038\n",
      "Start kmeans\n",
      "Start silhouette\n",
      "Cluster number is  39 the score is  0.014794908232840975\n",
      "Start kmeans\n",
      "Start silhouette\n",
      "Cluster number is  40 the score is  0.014762276079174626\n",
      "Start kmeans\n",
      "Start silhouette\n",
      "Cluster number is  41 the score is  0.015099257964546892\n",
      "Start kmeans\n",
      "Start silhouette\n",
      "Cluster number is  42 the score is  0.015669929998728634\n",
      "Start kmeans\n",
      "Start silhouette\n",
      "Cluster number is  43 the score is  0.015003754203481278\n",
      "Start kmeans\n",
      "Start silhouette\n",
      "Cluster number is  44 the score is  0.016176731720885018\n",
      "Start kmeans\n",
      "Start silhouette\n",
      "Cluster number is  45 the score is  0.01567674440889787\n",
      "Start kmeans\n",
      "Start silhouette\n",
      "Cluster number is  46 the score is  0.014424956402395057\n",
      "Start kmeans\n",
      "Start silhouette\n",
      "Cluster number is  47 the score is  0.015403715396302847\n",
      "Start kmeans\n",
      "Start silhouette\n",
      "Cluster number is  48 the score is  0.015493386936556297\n",
      "Start kmeans\n",
      "Start silhouette\n",
      "Cluster number is  49 the score is  0.01569458485043816\n",
      "Start kmeans\n",
      "Start silhouette\n",
      "Cluster number is  50 the score is  0.015231590834767798\n",
      "Start kmeans\n",
      "Start silhouette\n",
      "Cluster number is  51 the score is  0.015919549164230773\n",
      "Start kmeans\n",
      "Start silhouette\n",
      "Cluster number is  52 the score is  0.014886878549812252\n",
      "Start kmeans\n",
      "Start silhouette\n",
      "Cluster number is  53 the score is  0.016233090712935702\n",
      "Start kmeans\n",
      "Start silhouette\n",
      "Cluster number is  54 the score is  0.01567656123609506\n",
      "Start kmeans\n",
      "Start silhouette\n",
      "Cluster number is  55 the score is  0.016021940952422382\n",
      "Start kmeans\n",
      "Start silhouette\n",
      "Cluster number is  56 the score is  0.016299850118885156\n",
      "Start kmeans\n"
     ]
    },
    {
     "ename": "KeyboardInterrupt",
     "evalue": "",
     "output_type": "error",
     "traceback": [
      "\u001b[1;31m---------------------------------------------------------------------------\u001b[0m",
      "\u001b[1;31mKeyboardInterrupt\u001b[0m                         Traceback (most recent call last)",
      "\u001b[1;32m<__array_function__ internals>\u001b[0m in \u001b[0;36mwhere\u001b[1;34m(*args, **kwargs)\u001b[0m\n",
      "\u001b[1;31mKeyboardInterrupt\u001b[0m: "
     ]
    },
    {
     "name": "stderr",
     "output_type": "stream",
     "text": [
      "Exception ignored in: 'sklearn.cluster._k_means_common._relocate_empty_clusters_dense'\n",
      "Traceback (most recent call last):\n",
      "  File \"<__array_function__ internals>\", line 2, in where\n",
      "KeyboardInterrupt\n"
     ]
    },
    {
     "ename": "KeyboardInterrupt",
     "evalue": "",
     "output_type": "error",
     "traceback": [
      "\u001b[1;31m---------------------------------------------------------------------------\u001b[0m",
      "\u001b[1;31mKeyboardInterrupt\u001b[0m                         Traceback (most recent call last)",
      "\u001b[1;32m<__array_function__ internals>\u001b[0m in \u001b[0;36mwhere\u001b[1;34m(*args, **kwargs)\u001b[0m\n",
      "\u001b[1;31mKeyboardInterrupt\u001b[0m: "
     ]
    },
    {
     "name": "stderr",
     "output_type": "stream",
     "text": [
      "Exception ignored in: 'sklearn.cluster._k_means_common._relocate_empty_clusters_dense'\n",
      "Traceback (most recent call last):\n",
      "  File \"<__array_function__ internals>\", line 2, in where\n",
      "KeyboardInterrupt\n"
     ]
    },
    {
     "ename": "KeyboardInterrupt",
     "evalue": "",
     "output_type": "error",
     "traceback": [
      "\u001b[1;31m---------------------------------------------------------------------------\u001b[0m",
      "\u001b[1;31mKeyboardInterrupt\u001b[0m                         Traceback (most recent call last)",
      "\u001b[1;32m<__array_function__ internals>\u001b[0m in \u001b[0;36mwhere\u001b[1;34m(*args, **kwargs)\u001b[0m\n",
      "\u001b[1;31mKeyboardInterrupt\u001b[0m: "
     ]
    },
    {
     "name": "stderr",
     "output_type": "stream",
     "text": [
      "Exception ignored in: 'sklearn.cluster._k_means_common._relocate_empty_clusters_dense'\n",
      "Traceback (most recent call last):\n",
      "  File \"<__array_function__ internals>\", line 2, in where\n",
      "KeyboardInterrupt\n"
     ]
    },
    {
     "ename": "KeyboardInterrupt",
     "evalue": "",
     "output_type": "error",
     "traceback": [
      "\u001b[1;31m---------------------------------------------------------------------------\u001b[0m",
      "\u001b[1;31mKeyboardInterrupt\u001b[0m                         Traceback (most recent call last)",
      "\u001b[1;32m<__array_function__ internals>\u001b[0m in \u001b[0;36mwhere\u001b[1;34m(*args, **kwargs)\u001b[0m\n",
      "\u001b[1;31mKeyboardInterrupt\u001b[0m: "
     ]
    },
    {
     "name": "stderr",
     "output_type": "stream",
     "text": [
      "Exception ignored in: 'sklearn.cluster._k_means_common._relocate_empty_clusters_dense'\n",
      "Traceback (most recent call last):\n",
      "  File \"<__array_function__ internals>\", line 2, in where\n",
      "KeyboardInterrupt\n"
     ]
    },
    {
     "ename": "KeyboardInterrupt",
     "evalue": "",
     "output_type": "error",
     "traceback": [
      "\u001b[1;31m---------------------------------------------------------------------------\u001b[0m",
      "\u001b[1;31mKeyboardInterrupt\u001b[0m                         Traceback (most recent call last)",
      "\u001b[1;32m<__array_function__ internals>\u001b[0m in \u001b[0;36mwhere\u001b[1;34m(*args, **kwargs)\u001b[0m\n",
      "\u001b[1;31mKeyboardInterrupt\u001b[0m: "
     ]
    },
    {
     "name": "stderr",
     "output_type": "stream",
     "text": [
      "Exception ignored in: 'sklearn.cluster._k_means_common._relocate_empty_clusters_dense'\n",
      "Traceback (most recent call last):\n",
      "  File \"<__array_function__ internals>\", line 2, in where\n",
      "KeyboardInterrupt\n"
     ]
    },
    {
     "name": "stdout",
     "output_type": "stream",
     "text": [
      "Start silhouette\n"
     ]
    }
   ],
   "source": [
    "for i in range(19,100):\n",
    "    print(\"Start kmeans\")\n",
    "    kmeans = KMeans(n_clusters=i, init='k-means++').fit(tfidf)\n",
    "    print(\"Start silhouette\")\n",
    "    silhouette_avg = silhouette_score(tfidf, kmeans.labels_)\n",
    "    print(\"Cluster number is \", i, \"the score is \", silhouette_avg)"
   ]
  },
  {
   "cell_type": "code",
   "execution_count": null,
   "id": "7c078a28",
   "metadata": {},
   "outputs": [],
   "source": [
    "kmeans = KMeans(n_clusters=10, init='k-means++').fit(tfidf)\n",
    "silhouette_avg = silhouette_score(tfidf, kmeans.labels_)\n",
    "print(silhouette_avg)"
   ]
  },
  {
   "cell_type": "code",
   "execution_count": 6,
   "id": "a20830c6",
   "metadata": {},
   "outputs": [
    {
     "name": "stdout",
     "output_type": "stream",
     "text": [
      "0.017964173031090644\n"
     ]
    }
   ],
   "source": [
    "kmeans = KMeans(n_clusters=300, init='k-means++').fit(tfidf)\n",
    "silhouette_avg = silhouette_score(tfidf, kmeans.labels_)\n",
    "print(silhouette_avg)"
   ]
  },
  {
   "cell_type": "code",
   "execution_count": 7,
   "id": "d32a3902",
   "metadata": {},
   "outputs": [
    {
     "name": "stdout",
     "output_type": "stream",
     "text": [
      "0.018837541451307664\n"
     ]
    }
   ],
   "source": [
    "kmeans = KMeans(n_clusters=500, init='k-means++').fit(tfidf)\n",
    "silhouette_avg = silhouette_score(tfidf, kmeans.labels_)\n",
    "print(silhouette_avg)"
   ]
  },
  {
   "cell_type": "code",
   "execution_count": 10,
   "id": "483e17ed",
   "metadata": {},
   "outputs": [
    {
     "name": "stdout",
     "output_type": "stream",
     "text": [
      "Cluster number is  2 the score is  0.0011631555022065874\n",
      "Cluster number is  3 the score is  0.001966330878814181\n",
      "Cluster number is  4 the score is  0.002256224222004003\n",
      "Cluster number is  5 the score is  0.002896225505249173\n",
      "Cluster number is  6 the score is  0.0036061193608112243\n",
      "Cluster number is  7 the score is  0.00397260922638186\n",
      "Cluster number is  8 the score is  0.004849674858420111\n",
      "Cluster number is  9 the score is  0.004721322718095118\n",
      "Cluster number is  10 the score is  0.005615120565052644\n",
      "Cluster number is  11 the score is  0.00618716712816718\n",
      "Cluster number is  12 the score is  0.006689642809958838\n",
      "Cluster number is  13 the score is  0.007196560740403736\n",
      "Cluster number is  14 the score is  0.007287663263984813\n",
      "Cluster number is  15 the score is  0.007919566750416485\n",
      "Cluster number is  16 the score is  0.008604206528356289\n",
      "Cluster number is  17 the score is  0.008607326345611574\n",
      "Cluster number is  18 the score is  0.00943950178437084\n",
      "Cluster number is  19 the score is  0.008944714246776836\n",
      "Cluster number is  20 the score is  0.00995136977769116\n",
      "Cluster number is  21 the score is  0.01037165366041793\n",
      "Cluster number is  22 the score is  0.009864482950024114\n",
      "Cluster number is  23 the score is  0.012281647373964984\n",
      "Cluster number is  24 the score is  0.011825983701123047\n",
      "Cluster number is  25 the score is  0.011248953177333192\n",
      "Cluster number is  26 the score is  0.01177878694875029\n",
      "Cluster number is  27 the score is  0.011523823102310355\n",
      "Cluster number is  28 the score is  0.012405866570726235\n",
      "Cluster number is  29 the score is  0.012840906637719134\n",
      "Cluster number is  30 the score is  0.01240825882575207\n",
      "Cluster number is  31 the score is  0.01342592517351452\n",
      "Cluster number is  32 the score is  0.013368890470702093\n",
      "Cluster number is  33 the score is  0.012537330198940303\n",
      "Cluster number is  34 the score is  0.01231820468463118\n",
      "Cluster number is  35 the score is  0.013744656514197625\n",
      "Cluster number is  36 the score is  0.014389713898715175\n",
      "Cluster number is  37 the score is  0.01354761929811487\n",
      "Cluster number is  38 the score is  0.013758324790374208\n",
      "Cluster number is  39 the score is  0.014565365925567716\n",
      "Cluster number is  40 the score is  0.01513740638414993\n",
      "Cluster number is  41 the score is  0.015091861402534797\n",
      "Cluster number is  42 the score is  0.0147398951277138\n",
      "Cluster number is  43 the score is  0.015404385498653727\n",
      "Cluster number is  44 the score is  0.0159195043155888\n",
      "Cluster number is  45 the score is  0.015803461507467535\n",
      "Cluster number is  46 the score is  0.015452465036034334\n",
      "Cluster number is  47 the score is  0.014618510001386986\n",
      "Cluster number is  48 the score is  0.013876238479955188\n",
      "Cluster number is  49 the score is  0.01566963414944323\n",
      "Cluster number is  50 the score is  0.01635309707525607\n",
      "Cluster number is  51 the score is  0.015641946058937938\n",
      "Cluster number is  52 the score is  0.015737315292886328\n",
      "Cluster number is  53 the score is  0.015391785225100619\n",
      "Cluster number is  54 the score is  0.015705482745158563\n",
      "Cluster number is  55 the score is  0.016142790760555293\n",
      "Cluster number is  56 the score is  0.016704453131532297\n",
      "Cluster number is  57 the score is  0.01673659131859934\n",
      "Cluster number is  58 the score is  0.016829824175434067\n",
      "Cluster number is  59 the score is  0.0163517894960994\n",
      "Cluster number is  60 the score is  0.01727507369385473\n",
      "Cluster number is  61 the score is  0.016732244791728836\n",
      "Cluster number is  62 the score is  0.016428219122460088\n",
      "Cluster number is  63 the score is  0.017101962249922862\n",
      "Cluster number is  64 the score is  0.01777153339747172\n",
      "Cluster number is  65 the score is  0.016935450314095126\n",
      "Cluster number is  66 the score is  0.017688047859390172\n",
      "Cluster number is  67 the score is  0.01709534558442719\n",
      "Cluster number is  68 the score is  0.017887942972988534\n",
      "Cluster number is  69 the score is  0.017283663484656094\n",
      "Cluster number is  70 the score is  0.018123976867915583\n",
      "Cluster number is  71 the score is  0.01707156909858834\n",
      "Cluster number is  72 the score is  0.01723522084218306\n",
      "Cluster number is  73 the score is  0.018056444703781097\n",
      "Cluster number is  74 the score is  0.018037591970750038\n",
      "Cluster number is  75 the score is  0.017767514297044047\n",
      "Cluster number is  76 the score is  0.017113639258696082\n",
      "Cluster number is  77 the score is  0.01736719993895576\n",
      "Cluster number is  78 the score is  0.018002901909031047\n",
      "Cluster number is  79 the score is  0.017085187582025912\n",
      "Cluster number is  80 the score is  0.018367359498751887\n",
      "Cluster number is  81 the score is  0.017825757843465198\n",
      "Cluster number is  82 the score is  0.01741829700384399\n",
      "Cluster number is  83 the score is  0.017956441486814665\n",
      "Cluster number is  84 the score is  0.018297090325548555\n",
      "Cluster number is  85 the score is  0.018017268908510676\n",
      "Cluster number is  86 the score is  0.018774924547785985\n",
      "Cluster number is  87 the score is  0.01866275229427623\n",
      "Cluster number is  88 the score is  0.01691301547803989\n",
      "Cluster number is  89 the score is  0.017964589871912472\n",
      "Cluster number is  90 the score is  0.01884420607156261\n",
      "Cluster number is  91 the score is  0.019612845756855773\n",
      "Cluster number is  92 the score is  0.01877520124177754\n",
      "Cluster number is  93 the score is  0.018198372871108492\n",
      "Cluster number is  94 the score is  0.01821728404220589\n",
      "Cluster number is  95 the score is  0.019033001730488046\n",
      "Cluster number is  96 the score is  0.018552945752416748\n",
      "Cluster number is  97 the score is  0.019125235053503643\n",
      "Cluster number is  98 the score is  0.018981230597904963\n",
      "Cluster number is  99 the score is  0.0181741971556687\n",
      "Cluster number is  100 the score is  0.018366657797948497\n",
      "Cluster number is  101 the score is  0.01917941485406372\n",
      "Cluster number is  102 the score is  0.018775963319016844\n",
      "Cluster number is  103 the score is  0.01901666511166648\n",
      "Cluster number is  104 the score is  0.01854684596861546\n",
      "Cluster number is  105 the score is  0.019933900669387758\n",
      "Cluster number is  106 the score is  0.018766264479500885\n",
      "Cluster number is  107 the score is  0.017105250912793364\n",
      "Cluster number is  108 the score is  0.01777573988036968\n",
      "Cluster number is  109 the score is  0.01865795047384392\n",
      "Cluster number is  110 the score is  0.018257950131977556\n",
      "Cluster number is  111 the score is  0.01742778472262143\n",
      "Cluster number is  112 the score is  0.01874257511753071\n",
      "Cluster number is  113 the score is  0.018994473525469804\n",
      "Cluster number is  114 the score is  0.01756364390271121\n",
      "Cluster number is  115 the score is  0.01812865960718922\n",
      "Cluster number is  116 the score is  0.020274885194281035\n",
      "Cluster number is  117 the score is  0.01809087319565188\n",
      "Cluster number is  118 the score is  0.020494223596009338\n",
      "Cluster number is  119 the score is  0.018447800341884667\n",
      "Cluster number is  120 the score is  0.018516517349210792\n",
      "Cluster number is  121 the score is  0.01828006650707749\n",
      "Cluster number is  122 the score is  0.019276533793719103\n",
      "Cluster number is  123 the score is  0.01887547845085046\n"
     ]
    },
    {
     "ename": "KeyboardInterrupt",
     "evalue": "",
     "output_type": "error",
     "traceback": [
      "\u001b[1;31m---------------------------------------------------------------------------\u001b[0m",
      "\u001b[1;31mKeyboardInterrupt\u001b[0m                         Traceback (most recent call last)",
      "\u001b[1;32m<__array_function__ internals>\u001b[0m in \u001b[0;36mwhere\u001b[1;34m(*args, **kwargs)\u001b[0m\n",
      "\u001b[1;31mKeyboardInterrupt\u001b[0m: "
     ]
    },
    {
     "name": "stderr",
     "output_type": "stream",
     "text": [
      "Exception ignored in: 'sklearn.cluster._k_means_common._relocate_empty_clusters_dense'\n",
      "Traceback (most recent call last):\n",
      "  File \"<__array_function__ internals>\", line 2, in where\n",
      "KeyboardInterrupt\n"
     ]
    },
    {
     "ename": "KeyboardInterrupt",
     "evalue": "",
     "output_type": "error",
     "traceback": [
      "\u001b[1;31m---------------------------------------------------------------------------\u001b[0m",
      "\u001b[1;31mKeyboardInterrupt\u001b[0m                         Traceback (most recent call last)",
      "\u001b[1;32m~\\AppData\\Local\\Temp/ipykernel_11248/2377042595.py\u001b[0m in \u001b[0;36m<module>\u001b[1;34m\u001b[0m\n\u001b[0;32m      1\u001b[0m \u001b[0msilhouette_scores\u001b[0m \u001b[1;33m=\u001b[0m \u001b[1;33m[\u001b[0m\u001b[1;33m]\u001b[0m\u001b[1;33m\u001b[0m\u001b[1;33m\u001b[0m\u001b[0m\n\u001b[0;32m      2\u001b[0m \u001b[1;32mfor\u001b[0m \u001b[0mi\u001b[0m \u001b[1;32min\u001b[0m \u001b[0mrange\u001b[0m\u001b[1;33m(\u001b[0m\u001b[1;36m2\u001b[0m\u001b[1;33m,\u001b[0m\u001b[1;36m300\u001b[0m\u001b[1;33m)\u001b[0m\u001b[1;33m:\u001b[0m\u001b[1;33m\u001b[0m\u001b[1;33m\u001b[0m\u001b[0m\n\u001b[1;32m----> 3\u001b[1;33m     \u001b[0mkmeans\u001b[0m \u001b[1;33m=\u001b[0m \u001b[0mKMeans\u001b[0m\u001b[1;33m(\u001b[0m\u001b[0mn_clusters\u001b[0m\u001b[1;33m=\u001b[0m\u001b[0mi\u001b[0m\u001b[1;33m,\u001b[0m \u001b[0minit\u001b[0m\u001b[1;33m=\u001b[0m\u001b[1;34m'k-means++'\u001b[0m\u001b[1;33m)\u001b[0m\u001b[1;33m.\u001b[0m\u001b[0mfit\u001b[0m\u001b[1;33m(\u001b[0m\u001b[0mtfidf\u001b[0m\u001b[1;33m)\u001b[0m\u001b[1;33m\u001b[0m\u001b[1;33m\u001b[0m\u001b[0m\n\u001b[0m\u001b[0;32m      4\u001b[0m     \u001b[0msilhouette_avg\u001b[0m \u001b[1;33m=\u001b[0m \u001b[0msilhouette_score\u001b[0m\u001b[1;33m(\u001b[0m\u001b[0mtfidf\u001b[0m\u001b[1;33m,\u001b[0m \u001b[0mkmeans\u001b[0m\u001b[1;33m.\u001b[0m\u001b[0mlabels_\u001b[0m\u001b[1;33m)\u001b[0m\u001b[1;33m\u001b[0m\u001b[1;33m\u001b[0m\u001b[0m\n\u001b[0;32m      5\u001b[0m     \u001b[0msilhouette_scores\u001b[0m\u001b[1;33m.\u001b[0m\u001b[0mappend\u001b[0m\u001b[1;33m(\u001b[0m\u001b[0msilhouette_avg\u001b[0m\u001b[1;33m)\u001b[0m\u001b[1;33m\u001b[0m\u001b[1;33m\u001b[0m\u001b[0m\n",
      "\u001b[1;32m~\\.conda\\envs\\pytorch\\lib\\site-packages\\sklearn\\cluster\\_kmeans.py\u001b[0m in \u001b[0;36mfit\u001b[1;34m(self, X, y, sample_weight)\u001b[0m\n\u001b[0;32m   1192\u001b[0m                 \u001b[0mtol\u001b[0m\u001b[1;33m=\u001b[0m\u001b[0mself\u001b[0m\u001b[1;33m.\u001b[0m\u001b[0m_tol\u001b[0m\u001b[1;33m,\u001b[0m\u001b[1;33m\u001b[0m\u001b[1;33m\u001b[0m\u001b[0m\n\u001b[0;32m   1193\u001b[0m                 \u001b[0mx_squared_norms\u001b[0m\u001b[1;33m=\u001b[0m\u001b[0mx_squared_norms\u001b[0m\u001b[1;33m,\u001b[0m\u001b[1;33m\u001b[0m\u001b[1;33m\u001b[0m\u001b[0m\n\u001b[1;32m-> 1194\u001b[1;33m                 \u001b[0mn_threads\u001b[0m\u001b[1;33m=\u001b[0m\u001b[0mself\u001b[0m\u001b[1;33m.\u001b[0m\u001b[0m_n_threads\u001b[0m\u001b[1;33m,\u001b[0m\u001b[1;33m\u001b[0m\u001b[1;33m\u001b[0m\u001b[0m\n\u001b[0m\u001b[0;32m   1195\u001b[0m             )\n\u001b[0;32m   1196\u001b[0m \u001b[1;33m\u001b[0m\u001b[0m\n",
      "\u001b[1;32m~\\.conda\\envs\\pytorch\\lib\\site-packages\\sklearn\\cluster\\_kmeans.py\u001b[0m in \u001b[0;36m_kmeans_single_elkan\u001b[1;34m(X, sample_weight, centers_init, max_iter, verbose, x_squared_norms, tol, n_threads)\u001b[0m\n\u001b[0;32m    467\u001b[0m         \u001b[0m_inertia\u001b[0m \u001b[1;33m=\u001b[0m \u001b[0m_inertia_dense\u001b[0m\u001b[1;33m\u001b[0m\u001b[1;33m\u001b[0m\u001b[0m\n\u001b[0;32m    468\u001b[0m \u001b[1;33m\u001b[0m\u001b[0m\n\u001b[1;32m--> 469\u001b[1;33m     \u001b[0minit_bounds\u001b[0m\u001b[1;33m(\u001b[0m\u001b[0mX\u001b[0m\u001b[1;33m,\u001b[0m \u001b[0mcenters\u001b[0m\u001b[1;33m,\u001b[0m \u001b[0mcenter_half_distances\u001b[0m\u001b[1;33m,\u001b[0m \u001b[0mlabels\u001b[0m\u001b[1;33m,\u001b[0m \u001b[0mupper_bounds\u001b[0m\u001b[1;33m,\u001b[0m \u001b[0mlower_bounds\u001b[0m\u001b[1;33m)\u001b[0m\u001b[1;33m\u001b[0m\u001b[1;33m\u001b[0m\u001b[0m\n\u001b[0m\u001b[0;32m    470\u001b[0m \u001b[1;33m\u001b[0m\u001b[0m\n\u001b[0;32m    471\u001b[0m     \u001b[0mstrict_convergence\u001b[0m \u001b[1;33m=\u001b[0m \u001b[1;32mFalse\u001b[0m\u001b[1;33m\u001b[0m\u001b[1;33m\u001b[0m\u001b[0m\n",
      "\u001b[1;31mKeyboardInterrupt\u001b[0m: "
     ]
    }
   ],
   "source": [
    "silhouette_scores = []\n",
    "for i in range(2,300):\n",
    "    kmeans = KMeans(n_clusters=i, init='k-means++').fit(tfidf)\n",
    "    silhouette_avg = silhouette_score(tfidf, kmeans.labels_)\n",
    "    silhouette_scores.append(silhouette_avg)\n",
    "    print(\"Cluster number is \", i, \"the score is \", silhouette_avg)"
   ]
  },
  {
   "cell_type": "code",
   "execution_count": 13,
   "id": "feb48f66",
   "metadata": {},
   "outputs": [
    {
     "data": {
      "image/png": "[encoded data removed]",
      "text/plain": [
       "<Figure size 432x288 with 1 Axes>"
      ]
     },
     "metadata": {
      "needs_background": "light"
     },
     "output_type": "display_data"
    }
   ],
   "source": [
    "import matplotlib.pyplot as plt\n",
    "import numpy as np\n",
    "x = np.arange(2, 124, 1)\n",
    "plt.plot(x, silhouette_scores)\n",
    "plt.show()"
   ]
  },
  {
   "cell_type": "code",
   "execution_count": 1,
   "id": "a067e7d3",
   "metadata": {},
   "outputs": [],
   "source": [
    "import pandas as pd\n",
    "import json\n",
    "import random\n",
    "import re\n",
    "import os\n",
    "import numpy as np\n",
    "from sklearn.feature_extraction.text import TfidfVectorizer\n",
    "from sklearn.cluster import KMeans\n",
    "from sklearn.metrics import silhouette_samples, silhouette_score"
   ]
  },
  {
   "cell_type": "code",
   "execution_count": 4,
   "id": "4dd79c44",
   "metadata": {},
   "outputs": [
    {
     "name": "stdout",
     "output_type": "stream",
     "text": [
      "Cluster number is  2 the score is  0.003938343070476791\n",
      "Cluster number is  3 the score is  0.003510129118453611\n",
      "Cluster number is  4 the score is  0.003755714008259764\n",
      "Cluster number is  5 the score is  0.004484823017899821\n",
      "Cluster number is  6 the score is  0.0050990311473537355\n",
      "Cluster number is  7 the score is  0.005150466860014899\n",
      "Cluster number is  8 the score is  0.006037607930151947\n",
      "Cluster number is  9 the score is  0.006162474305836551\n",
      "Cluster number is  10 the score is  0.007119912881164185\n",
      "Cluster number is  11 the score is  0.007929050173294636\n",
      "Cluster number is  12 the score is  0.008527453639471329\n",
      "Cluster number is  13 the score is  0.008864731387640077\n",
      "Cluster number is  14 the score is  0.009012897772416787\n",
      "Cluster number is  15 the score is  0.009727177632310659\n",
      "Cluster number is  16 the score is  0.010327124234791533\n",
      "Cluster number is  17 the score is  0.009970300589628578\n",
      "Cluster number is  18 the score is  0.01047297726011957\n",
      "Cluster number is  19 the score is  0.010597950729493787\n",
      "Cluster number is  20 the score is  0.011127482552702614\n",
      "Cluster number is  21 the score is  0.011884047960119673\n",
      "Cluster number is  22 the score is  0.012058002914388691\n",
      "Cluster number is  23 the score is  0.011768572875760856\n",
      "Cluster number is  24 the score is  0.012275634163982944\n",
      "Cluster number is  25 the score is  0.012769249167982439\n",
      "Cluster number is  26 the score is  0.013016704250771177\n",
      "Cluster number is  27 the score is  0.01277250540610514\n",
      "Cluster number is  28 the score is  0.013136367226725024\n",
      "Cluster number is  29 the score is  0.013701144869497504\n",
      "Cluster number is  30 the score is  0.014193643234787433\n",
      "Cluster number is  31 the score is  0.01446709378478452\n",
      "Cluster number is  32 the score is  0.01442830692646233\n",
      "Cluster number is  33 the score is  0.014352275751200695\n",
      "Cluster number is  34 the score is  0.01457948892456225\n",
      "Cluster number is  35 the score is  0.014611190721094635\n",
      "Cluster number is  36 the score is  0.014764038164542106\n",
      "Cluster number is  37 the score is  0.0147814146690472\n",
      "Cluster number is  38 the score is  0.01572621503181923\n",
      "Cluster number is  39 the score is  0.01509182746632503\n",
      "Cluster number is  40 the score is  0.015830492535337425\n",
      "Cluster number is  41 the score is  0.015554692296616716\n",
      "Cluster number is  42 the score is  0.015371119830629896\n",
      "Cluster number is  43 the score is  0.01501896077946417\n",
      "Cluster number is  44 the score is  0.016002716277941517\n",
      "Cluster number is  45 the score is  0.016147514381156094\n",
      "Cluster number is  46 the score is  0.016424588145635313\n",
      "Cluster number is  47 the score is  0.016466896709662112\n",
      "Cluster number is  48 the score is  0.017052447501113708\n",
      "Cluster number is  49 the score is  0.017053124158129054\n",
      "Cluster number is  50 the score is  0.016670911393209212\n",
      "Cluster number is  51 the score is  0.017058044932629617\n",
      "Cluster number is  52 the score is  0.017097561436687232\n",
      "Cluster number is  53 the score is  0.01689401338233603\n",
      "Cluster number is  54 the score is  0.01756994658110617\n",
      "Cluster number is  55 the score is  0.017634705452227825\n",
      "Cluster number is  56 the score is  0.017010480751339027\n",
      "Cluster number is  57 the score is  0.01790113945633795\n",
      "Cluster number is  58 the score is  0.01751950351813469\n",
      "Cluster number is  59 the score is  0.01727183522445258\n",
      "Cluster number is  60 the score is  0.017565644330096736\n",
      "Cluster number is  61 the score is  0.01744110648865853\n",
      "Cluster number is  62 the score is  0.018588531511952947\n",
      "Cluster number is  63 the score is  0.017213326648676173\n",
      "Cluster number is  64 the score is  0.018687553664348894\n",
      "Cluster number is  65 the score is  0.018184168389132956\n",
      "Cluster number is  66 the score is  0.01914487570340198\n",
      "Cluster number is  67 the score is  0.018891275397261296\n",
      "Cluster number is  68 the score is  0.018179547383410325\n",
      "Cluster number is  69 the score is  0.01853970950895929\n",
      "Cluster number is  70 the score is  0.01853711231469788\n",
      "Cluster number is  71 the score is  0.017923953950346322\n",
      "Cluster number is  72 the score is  0.01854945472805313\n",
      "Cluster number is  73 the score is  0.018886530184973476\n",
      "Cluster number is  74 the score is  0.01689871511112124\n",
      "Cluster number is  75 the score is  0.018297946271567857\n",
      "Cluster number is  76 the score is  0.019390381177692057\n",
      "Cluster number is  77 the score is  0.01769125274771974\n",
      "Cluster number is  78 the score is  0.018958979991709972\n",
      "Cluster number is  79 the score is  0.018851788577538733\n",
      "Cluster number is  80 the score is  0.020149774041399747\n",
      "Cluster number is  81 the score is  0.019747384190533068\n",
      "Cluster number is  82 the score is  0.020028929294458854\n",
      "Cluster number is  83 the score is  0.01868521033151709\n",
      "Cluster number is  84 the score is  0.019095692409905315\n",
      "Cluster number is  85 the score is  0.019465409361097048\n",
      "Cluster number is  86 the score is  0.01964182956681041\n",
      "Cluster number is  87 the score is  0.020055261850220087\n",
      "Cluster number is  88 the score is  0.018731404293737926\n",
      "Cluster number is  89 the score is  0.019647781645083434\n",
      "Cluster number is  90 the score is  0.020663741874698015\n",
      "Cluster number is  91 the score is  0.019759460535116465\n",
      "Cluster number is  92 the score is  0.019911986140852597\n",
      "Cluster number is  93 the score is  0.019390533336341935\n",
      "Cluster number is  94 the score is  0.020512616131618186\n",
      "Cluster number is  95 the score is  0.019967309000547592\n",
      "Cluster number is  96 the score is  0.02012626195548826\n",
      "Cluster number is  97 the score is  0.020061399576324766\n",
      "Cluster number is  98 the score is  0.020317076881342377\n",
      "Cluster number is  99 the score is  0.020369670856881655\n"
     ]
    },
    {
     "data": {
      "image/png": "[encoded data removed]",
      "text/plain": [
       "<Figure size 432x288 with 1 Axes>"
      ]
     },
     "metadata": {
      "needs_background": "light"
     },
     "output_type": "display_data"
    }
   ],
   "source": [
    "silhouette_scores_cluster = []\n",
    "for i in range(2,100):\n",
    "    df = pd.read_csv('./tweets_after_fight/2022-02-24.csv' )\n",
    "    tfidf_vectorizer = TfidfVectorizer()\n",
    "    tfidf = tfidf_vectorizer.fit_transform(df.text_clean.values.astype('U'))\n",
    "    tfidf = tfidf.toarray()\n",
    "    kmeans = KMeans(n_clusters=i, init='k-means++').fit(tfidf)\n",
    "    silhouette_avg = silhouette_score(tfidf, kmeans.labels_)\n",
    "    silhouette_scores_cluster.append(silhouette_avg)\n",
    "    print(\"Cluster number is \", i, \"the score is \", silhouette_avg)\n",
    "import matplotlib.pyplot as plt\n",
    "import numpy as np\n",
    "x = np.arange(2, 100, 1)\n",
    "plt.plot(x, silhouette_scores_cluster)\n",
    "plt.show()"
   ]
  },
  {
   "cell_type": "code",
   "execution_count": 3,
   "id": "35ded5a3",
   "metadata": {},
   "outputs": [
    {
     "ename": "AttributeError",
     "evalue": "'DataFrame' object has no attribute 'text_clean'",
     "output_type": "error",
     "traceback": [
      "\u001b[1;31m---------------------------------------------------------------------------\u001b[0m",
      "\u001b[1;31mAttributeError\u001b[0m                            Traceback (most recent call last)",
      "\u001b[1;32m~\\AppData\\Local\\Temp/ipykernel_2356/515960454.py\u001b[0m in \u001b[0;36m<module>\u001b[1;34m\u001b[0m\n\u001b[0;32m      4\u001b[0m     \u001b[0mdf\u001b[0m \u001b[1;33m=\u001b[0m \u001b[0mpd\u001b[0m\u001b[1;33m.\u001b[0m\u001b[0mread_csv\u001b[0m\u001b[1;33m(\u001b[0m\u001b[1;34m'./model_show_sample_for_covid/after_covid/'\u001b[0m \u001b[1;33m+\u001b[0m \u001b[0mfile\u001b[0m\u001b[1;33m)\u001b[0m\u001b[1;33m\u001b[0m\u001b[1;33m\u001b[0m\u001b[0m\n\u001b[0;32m      5\u001b[0m     \u001b[0mtfidf_vectorizer\u001b[0m \u001b[1;33m=\u001b[0m \u001b[0mTfidfVectorizer\u001b[0m\u001b[1;33m(\u001b[0m\u001b[1;33m)\u001b[0m\u001b[1;33m\u001b[0m\u001b[1;33m\u001b[0m\u001b[0m\n\u001b[1;32m----> 6\u001b[1;33m     \u001b[0mtfidf\u001b[0m \u001b[1;33m=\u001b[0m \u001b[0mtfidf_vectorizer\u001b[0m\u001b[1;33m.\u001b[0m\u001b[0mfit_transform\u001b[0m\u001b[1;33m(\u001b[0m\u001b[0mdf\u001b[0m\u001b[1;33m.\u001b[0m\u001b[0mtext_clean\u001b[0m\u001b[1;33m.\u001b[0m\u001b[0mvalues\u001b[0m\u001b[1;33m.\u001b[0m\u001b[0mastype\u001b[0m\u001b[1;33m(\u001b[0m\u001b[1;34m'U'\u001b[0m\u001b[1;33m)\u001b[0m\u001b[1;33m)\u001b[0m\u001b[1;33m\u001b[0m\u001b[1;33m\u001b[0m\u001b[0m\n\u001b[0m\u001b[0;32m      7\u001b[0m     \u001b[0mtfidf\u001b[0m \u001b[1;33m=\u001b[0m \u001b[0mtfidf\u001b[0m\u001b[1;33m.\u001b[0m\u001b[0mtoarray\u001b[0m\u001b[1;33m(\u001b[0m\u001b[1;33m)\u001b[0m\u001b[1;33m\u001b[0m\u001b[1;33m\u001b[0m\u001b[0m\n\u001b[0;32m      8\u001b[0m     \u001b[0mkmeans\u001b[0m \u001b[1;33m=\u001b[0m \u001b[0mKMeans\u001b[0m\u001b[1;33m(\u001b[0m\u001b[0mn_clusters\u001b[0m\u001b[1;33m=\u001b[0m\u001b[1;36m60\u001b[0m\u001b[1;33m,\u001b[0m \u001b[0minit\u001b[0m\u001b[1;33m=\u001b[0m\u001b[1;34m'k-means++'\u001b[0m\u001b[1;33m)\u001b[0m\u001b[1;33m.\u001b[0m\u001b[0mfit\u001b[0m\u001b[1;33m(\u001b[0m\u001b[0mtfidf\u001b[0m\u001b[1;33m)\u001b[0m\u001b[1;33m\u001b[0m\u001b[1;33m\u001b[0m\u001b[0m\n",
      "\u001b[1;32m~\\.conda\\envs\\pytorch\\lib\\site-packages\\pandas\\core\\generic.py\u001b[0m in \u001b[0;36m__getattr__\u001b[1;34m(self, name)\u001b[0m\n\u001b[0;32m   5485\u001b[0m         ):\n\u001b[0;32m   5486\u001b[0m             \u001b[1;32mreturn\u001b[0m \u001b[0mself\u001b[0m\u001b[1;33m[\u001b[0m\u001b[0mname\u001b[0m\u001b[1;33m]\u001b[0m\u001b[1;33m\u001b[0m\u001b[1;33m\u001b[0m\u001b[0m\n\u001b[1;32m-> 5487\u001b[1;33m         \u001b[1;32mreturn\u001b[0m \u001b[0mobject\u001b[0m\u001b[1;33m.\u001b[0m\u001b[0m__getattribute__\u001b[0m\u001b[1;33m(\u001b[0m\u001b[0mself\u001b[0m\u001b[1;33m,\u001b[0m \u001b[0mname\u001b[0m\u001b[1;33m)\u001b[0m\u001b[1;33m\u001b[0m\u001b[1;33m\u001b[0m\u001b[0m\n\u001b[0m\u001b[0;32m   5488\u001b[0m \u001b[1;33m\u001b[0m\u001b[0m\n\u001b[0;32m   5489\u001b[0m     \u001b[1;32mdef\u001b[0m \u001b[0m__setattr__\u001b[0m\u001b[1;33m(\u001b[0m\u001b[0mself\u001b[0m\u001b[1;33m,\u001b[0m \u001b[0mname\u001b[0m\u001b[1;33m:\u001b[0m \u001b[0mstr\u001b[0m\u001b[1;33m,\u001b[0m \u001b[0mvalue\u001b[0m\u001b[1;33m)\u001b[0m \u001b[1;33m->\u001b[0m \u001b[1;32mNone\u001b[0m\u001b[1;33m:\u001b[0m\u001b[1;33m\u001b[0m\u001b[1;33m\u001b[0m\u001b[0m\n",
      "\u001b[1;31mAttributeError\u001b[0m: 'DataFrame' object has no attribute 'text_clean'"
     ]
    }
   ],
   "source": [
    "path = './model_show_sample_for_covid/after_covid'\n",
    "silhouette_scores = []\n",
    "for file in os.listdir(path):\n",
    "    df = pd.read_csv('./model_show_sample_for_covid/after_covid/' + file)\n",
    "    tfidf_vectorizer = TfidfVectorizer()\n",
    "    tfidf = tfidf_vectorizer.fit_transform(df.text_clean.values.astype('U'))\n",
    "    tfidf = tfidf.toarray()\n",
    "    kmeans = KMeans(n_clusters=60, init='k-means++').fit(tfidf)\n",
    "    df['cluster_labels'] = kmeans.labels_.tolist()\n",
    "    silhouette_avg = silhouette_score(tfidf, kmeans.labels_)\n",
    "    print(silhouette_avg)\n",
    "    silhouette_scores.append(silhouette_avg)\n",
    "    df.to_csv(\"./model_show_sample_for_covid_labeled/after_covid/\"+file, encoding='utf-8')"
   ]
  },
  {
   "cell_type": "code",
   "execution_count": 6,
   "id": "42364d16",
   "metadata": {},
   "outputs": [
    {
     "data": {
      "text/plain": [
       "[0.017211195427599302,\n",
       " 0.01735983159494463,\n",
       " 0.017019262146706602,\n",
       " 0.01705900638146935,\n",
       " 0.017512497504818283,\n",
       " 0.01667807943650662]"
      ]
     },
     "execution_count": 6,
     "metadata": {},
     "output_type": "execute_result"
    }
   ],
   "source": [
    "silhouette_scores"
   ]
  },
  {
   "cell_type": "code",
   "execution_count": null,
   "id": "8283fe94",
   "metadata": {},
   "outputs": [],
   "source": []
  },
  {
   "cell_type": "code",
   "execution_count": 8,
   "id": "ee544a26",
   "metadata": {},
   "outputs": [
    {
     "name": "stdout",
     "output_type": "stream",
     "text": [
      "0.01806999122520493\n",
      "0.01955115238194738\n",
      "0.0178010728121507\n",
      "0.017279684143050953\n",
      "0.01777645444961941\n",
      "0.017686871045086497\n",
      "0.017753792349829343\n"
     ]
    }
   ],
   "source": [
    "path = './model_show_sample_for_election'\n",
    "silhouette_scores_cluster = []\n",
    "for file in os.listdir(path):\n",
    "    df = pd.read_csv('./model_show_sample_for_election/' + file)\n",
    "    tfidf_vectorizer = TfidfVectorizer()\n",
    "    tfidf = tfidf_vectorizer.fit_transform(df.text_clean.values.astype('U'))\n",
    "    tfidf = tfidf.toarray()\n",
    "    kmeans = KMeans(n_clusters=60, init='k-means++').fit(tfidf)\n",
    "    df['cluster_labels'] = kmeans.labels_.tolist()\n",
    "    silhouette_avg = silhouette_score(tfidf, kmeans.labels_)\n",
    "    print(silhouette_avg)\n",
    "    silhouette_scores_cluster.append(silhouette_avg)\n",
    "    df.to_csv(\"./model_show_sample_for_election_labeled/\"+file, encoding='utf-8')"
   ]
  },
  {
   "cell_type": "code",
   "execution_count": 9,
   "id": "a36122ca",
   "metadata": {},
   "outputs": [
    {
     "data": {
      "text/plain": [
       "[0.01806999122520493,\n",
       " 0.01955115238194738,\n",
       " 0.0178010728121507,\n",
       " 0.017279684143050953,\n",
       " 0.01777645444961941,\n",
       " 0.017686871045086497,\n",
       " 0.017753792349829343]"
      ]
     },
     "execution_count": 9,
     "metadata": {},
     "output_type": "execute_result"
    }
   ],
   "source": [
    "silhouette_scores_cluster"
   ]
  },
  {
   "cell_type": "code",
   "execution_count": null,
   "id": "bf91ecea",
   "metadata": {},
   "outputs": [],
   "source": []
  }
 ],
 "metadata": {
  "kernelspec": {
   "display_name": "Python [conda env:.conda-pytorch] *",
   "language": "python",
   "name": "conda-env-.conda-pytorch-py"
  },
  "language_info": {
   "codemirror_mode": {
    "name": "ipython",
    "version": 3
   },
   "file_extension": ".py",
   "mimetype": "text/x-python",
   "name": "python",
   "nbconvert_exporter": "python",
   "pygments_lexer": "ipython3",
   "version": "3.7.11"
  }
 },
 "nbformat": 4,
 "nbformat_minor": 5
}
